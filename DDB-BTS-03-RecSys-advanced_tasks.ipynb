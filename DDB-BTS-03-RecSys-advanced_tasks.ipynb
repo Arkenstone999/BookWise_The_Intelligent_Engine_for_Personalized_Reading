{
 "cells": [
  {
   "cell_type": "markdown",
   "metadata": {},
   "source": [
    "**ADVANCED TASKS**"
   ]
  },
  {
   "cell_type": "markdown",
   "metadata": {},
   "source": [
    "1 st one : \n",
    "\n",
    "Create and train/test split on the user rating data to evaluate the predictions made by the built\n",
    "recommender system. Use metrics such Mean Absolute and Square Error (MAE/MSE) to assess\n",
    "the quality of the predicted ratings. Select user subset that have at least a certain number of\n",
    "ratings across books. Additionally, optimize the number of “features” on a held out validation\n",
    "test according to the quality of the approximation.\n"
   ]
  },
  {
   "cell_type": "code",
   "execution_count": null,
   "metadata": {},
   "outputs": [],
   "source": [
    "import pandas as pd\n",
    "import numpy as np\n",
    "import matplotlib.pyplot as plt\n",
    "from sklearn.decomposition import TruncatedSVD\n",
    "from sklearn.model_selection import train_test_split\n",
    "from sklearn.metrics import mean_absolute_error, mean_squared_error\n",
    "from scipy.sparse import csr_matrix\n",
    "\n",
    "from surprise import SVD, Dataset, Reader\n",
    "from surprise.model_selection import train_test_split\n",
    "from surprise import accuracy\n",
    "from collections import defaultdict\n"
   ]
  },
  {
   "cell_type": "code",
   "execution_count": null,
   "metadata": {},
   "outputs": [],
   "source": [
    "ratings = pd.read_csv(\"ratings.csv\")\n",
    "books = pd.read_csv(\"books.csv\")"
   ]
  },
  {
   "cell_type": "code",
   "execution_count": null,
   "metadata": {},
   "outputs": [],
   "source": [
    "user_rating_counts = ratings['user_id'].value_counts()\n",
    "active_users = user_rating_counts[user_rating_counts >= 10].index\n",
    "filtered_ratings = ratings[ratings['user_id'].isin(active_users)]"
   ]
  },
  {
   "cell_type": "markdown",
   "metadata": {},
   "source": [
    "Now we split the ratings "
   ]
  },
  {
   "cell_type": "code",
   "execution_count": null,
   "metadata": {},
   "outputs": [],
   "source": [
    "train_ratings, test_ratings = train_test_split(filtered_ratings, test_size=0.2, random_state=42)\n"
   ]
  },
  {
   "cell_type": "code",
   "execution_count": null,
   "metadata": {},
   "outputs": [],
   "source": [
    "user_book_matrix_train = train_ratings.pivot(index='user_id', columns='book_id', values='rating').fillna(0)\n",
    "user_book_matrix_test = test_ratings.pivot(index='user_id', columns='book_id', values='rating').fillna(0)\n"
   ]
  },
  {
   "cell_type": "code",
   "execution_count": null,
   "metadata": {},
   "outputs": [],
   "source": [
    "sparse_matrix_train = csr_matrix(user_book_matrix_train.values)\n",
    "sparse_matrix_test = csr_matrix(user_book_matrix_test.values)\n"
   ]
  },
  {
   "cell_type": "code",
   "execution_count": null,
   "metadata": {},
   "outputs": [],
   "source": [
    "k_values = [10, 20, 50, 100]\n",
    "mae_scores = []\n",
    "mse_scores = []\n"
   ]
  },
  {
   "cell_type": "markdown",
   "metadata": {},
   "source": [
    "function to be interated into a script "
   ]
  },
  {
   "cell_type": "code",
   "execution_count": null,
   "metadata": {},
   "outputs": [],
   "source": [
    "for k in k_values:\n",
    "    svd = TruncatedSVD(n_components=k, random_state=42)\n",
    "    U_train = svd.fit_transform(sparse_matrix_train)\n",
    "    Sigma_train = np.diag(svd.singular_values_)\n",
    "    Vt_train = svd.components_\n",
    "    \n",
    "    R_approx = np.dot(U_train, np.dot(Sigma_train, Vt_train))\n",
    "\n",
    "    predicted_ratings = pd.DataFrame(R_approx, index=user_book_matrix_train.index, columns=user_book_matrix_train.columns)\n",
    "    test_ratings_filtered = test_ratings[test_ratings['user_id'].isin(user_book_matrix_train.index) & test_ratings['book_id'].isin(user_book_matrix_train.columns)]\n",
    "    \n",
    "    test_ratings_filtered['predicted_rating'] = test_ratings_filtered.apply(lambda row: predicted_ratings.loc[row['user_id'], row['book_id']] if row['user_id'] in predicted_ratings.index and row['book_id'] in predicted_ratings.columns else np.nan, axis=1)\n",
    "    test_ratings_filtered = test_ratings_filtered.dropna()\n",
    "    \n",
    "    # Compute MAE and MSE\n",
    "    mae = mean_absolute_error(test_ratings_filtered['rating'], test_ratings_filtered['predicted_rating'])\n",
    "    mse = mean_squared_error(test_ratings_filtered['rating'], test_ratings_filtered['predicted_rating'])\n",
    "    mae_scores.append(mae)\n",
    "    mse_scores.append(mse)"
   ]
  },
  {
   "cell_type": "code",
   "execution_count": null,
   "metadata": {},
   "outputs": [],
   "source": [
    "plt.figure(figsize=(8, 5))\n",
    "plt.plot(k_values, mae_scores, marker='o', label='MAE')\n",
    "plt.plot(k_values, mse_scores, marker='s', label='MSE')\n",
    "plt.xlabel(\"Number of Latent Features (k)\")\n",
    "plt.ylabel(\"Error\")\n",
    "plt.title(\"SVD Optimization: MAE & MSE vs. Number of Features\")\n",
    "plt.legend()\n",
    "plt.grid()\n",
    "plt.show()"
   ]
  },
  {
   "cell_type": "code",
   "execution_count": null,
   "metadata": {},
   "outputs": [],
   "source": [
    "best_k = k_values[np.argmin(mae_scores)]\n",
    "print(f\"Optimal number of latent features: {best_k}\")"
   ]
  },
  {
   "cell_type": "markdown",
   "metadata": {},
   "source": [
    "**SECOND ADVANCED TASK**"
   ]
  },
  {
   "cell_type": "code",
   "execution_count": null,
   "metadata": {},
   "outputs": [],
   "source": [
    "user_rating_counts = ratings['user_id'].value_counts()\n",
    "active_users = user_rating_counts[user_rating_counts >= 10].index\n",
    "filtered_ratings = ratings[ratings['user_id'].isin(active_users)]"
   ]
  },
  {
   "cell_type": "code",
   "execution_count": null,
   "metadata": {},
   "outputs": [],
   "source": [
    "reader = Reader(rating_scale=(1, 5))  # Assuming ratings are 1-5 scale\n",
    "data = Dataset.load_from_df(filtered_ratings[['user_id', 'book_id', 'rating']], reader)\n",
    "\n",
    "trainset, testset = train_test_split(data, test_size=0.2, random_state=42)\n",
    "\n",
    "# Initialize and train SVD model\n",
    "algo = SVD(n_factors=10, random_state=42)\n",
    "algo.fit(trainset)"
   ]
  },
  {
   "cell_type": "markdown",
   "metadata": {},
   "source": [
    "Prepare data for Surprise"
   ]
  },
  {
   "cell_type": "code",
   "execution_count": null,
   "metadata": {},
   "outputs": [],
   "source": [
    "predictions = algo.test(testset)\n",
    "mae = accuracy.mae(predictions)\n",
    "mse = accuracy.rmse(predictions) ** 2  \n",
    "print(f\"MAE with 10 factors: {mae:.4f}\")\n",
    "print(f\"MSE with 10 factors: {mse:.4f}\")"
   ]
  },
  {
   "cell_type": "code",
   "execution_count": null,
   "metadata": {},
   "outputs": [],
   "source": [
    "\n",
    "factor_values = [10, 20, 50, 100]\n",
    "mae_scores = []\n",
    "mse_scores = []\n",
    "\n",
    "for n_factors in factor_values:\n",
    "    # Train model\n",
    "    algo = SVD(n_factors=n_factors, random_state=42)\n",
    "    algo.fit(trainset)\n",
    "    \n",
    "    # Make predictions\n",
    "    predictions = algo.test(testset)\n",
    "    \n",
    "    # Calculate metrics\n",
    "    mae = accuracy.mae(predictions, verbose=False)\n",
    "    mse = accuracy.rmse(predictions, verbose=False) ** 2\n",
    "    \n",
    "    mae_scores.append(mae)\n",
    "    mse_scores.append(mse)\n",
    "    print(f\"\\nFactors: {n_factors}\")\n",
    "    print(f\"MAE: {mae:.4f}\")\n",
    "    print(f\"MSE: {mse:.4f}\")"
   ]
  },
  {
   "cell_type": "markdown",
   "metadata": {},
   "source": [
    "we should now find the optimal number of factors based on MAE"
   ]
  },
  {
   "cell_type": "code",
   "execution_count": null,
   "metadata": {},
   "outputs": [],
   "source": [
    "optimal_factors = factor_values[np.argmin(mae_scores)]\n",
    "print(f\"\\nOptimal number of factors based on MAE: {optimal_factors}\")"
   ]
  },
  {
   "cell_type": "code",
   "execution_count": null,
   "metadata": {},
   "outputs": [],
   "source": [
    "import matplotlib.pyplot as plt\n",
    "\n",
    "plt.figure(figsize=(8, 5))\n",
    "plt.plot(factor_values, mae_scores, marker='o', label='MAE')\n",
    "plt.plot(factor_values, mse_scores, marker='s', label='MSE')\n",
    "plt.xlabel(\"Number of Latent Factors\")\n",
    "plt.ylabel(\"Error\")\n",
    "plt.title(\"SVD Optimization (Surprise): MAE & MSE vs. Number of Factors\")\n",
    "plt.legend()\n",
    "plt.grid()\n",
    "plt.show()"
   ]
  }
 ],
 "metadata": {
  "kernelspec": {
   "display_name": "Python 3",
   "language": "python",
   "name": "python3"
  },
  "language_info": {
   "codemirror_mode": {
    "name": "ipython",
    "version": 3
   },
   "file_extension": ".py",
   "mimetype": "text/x-python",
   "name": "python",
   "nbconvert_exporter": "python",
   "pygments_lexer": "ipython3",
   "version": "3.12.4"
  }
 },
 "nbformat": 4,
 "nbformat_minor": 2
}
