{
  "nbformat": 4,
  "nbformat_minor": 0,
  "metadata": {
    "kernelspec": {
      "name": "python3",
      "display_name": "Python 3"
    },
    "colab": {
      "provenance": []
    }
  },
  "cells": [
    {
      "cell_type": "markdown",
      "metadata": {
        "id": "iLQPJbJLlBq7"
      },
      "source": [
        "# Automatic Differentiation with PyTorch\n",
        "Created by [Santiago Pascual](https://scholar.google.es/citations?user=7cVOyh0AAAAJ&hl=ca) ([UPC School](https://www.talent.upc.edu/ing/estudis/formacio/curs/310400/postgrau-artificial-intelligence-deep-learning/) 2019)\n",
        "\n",
        "Updated by [Xavier Giro](https://imatge.upc.edu/web/people/xavier-giro) ([UPC TelecomBCN](https://telecombcn-dl.github.io/dlai-2019/) 2019) and [Gerard I. Gállego](https://www.linkedin.com/in/gerard-gallego/)\n",
        "\n",
        "## Course material\n",
        "* [Slides](https://www.slideshare.net/xavigiro/backpropagation-for-neural-networks) by [Xavier Giro](https://imatge.upc.edu/web/people/xavier-giro)\n",
        "* [Video](https://www.youtube.com/watch?v=uub_hqDlqjc) by [Elisa Sayrol](https://imatge.upc.edu/web/people/elisa-sayrol)"
      ]
    },
    {
      "cell_type": "markdown",
      "metadata": {
        "id": "k6S_xlm3AI05"
      },
      "source": [
        "This session will be about how to perform backpropagation in PyTorch. To build neural networks with PyTorch we must first understand how this framework simplifies our life. Central to all neural networks in PyTorch is the `autograd` package [1]. This package provides **automatic differentiation for all operations on Tensors**. *HOW COOL IS THAT?*\n",
        "\n",
        "This means you can put layers and layers of operations over your PyTorch tensors, and the `autograd` package already computes the derivatives of those operations in the backprop process. It is a define-by-run framework, which means that your backprop is defined by how your code is run, and that every single iteration can be different. *Wow wow, wait... define-by-run? every single iteration can be different? What is all this jargon??* Let's see the following concepts during this tutorial:\n",
        "\n",
        "* The `grad`s in our `tensor`s.\n",
        "* The dynamic computational graph concept (DCG).\n",
        "* The `.backward()` life saver."
      ]
    },
    {
      "cell_type": "code",
      "metadata": {
        "id": "6XmDEbCMdGpO"
      },
      "source": [
        "# Imports that will be needed\n",
        "import torch\n",
        "import torch.nn as nn\n",
        "import torch.nn.functional as F\n",
        "import torch.optim as optim\n",
        "import numpy as np\n",
        "import matplotlib\n",
        "%matplotlib inline\n",
        "import matplotlib.pyplot as plt\n",
        "from timeit import default_timer as timer"
      ],
      "execution_count": 1,
      "outputs": []
    },
    {
      "cell_type": "markdown",
      "metadata": {
        "id": "-2IIIbEwUV0C"
      },
      "source": [
        "### Long Story Short\n",
        "\n",
        "The `torch.Tensor` class has an attribute `.requires_grad`. If you set it to `True`, it **starts tracking all operations on it**. When you finish your computations you can call `.backward()` and have **all the gradients computed automatically**. The gradient for this tensor will be **accumulated** into the `.grad` attribute.\n",
        "\n",
        "*IMPORTANT: Accumulated means it sums up the new gradients to the already existing ones (if any)!*\n",
        "\n",
        "Any operation performed on a `Tensor` that conforms a `Function` (`torch.autograd.Function`) creates a new node of an acyclic graph. This means that each `Tensor` where it comes from (its source `Tensor` and the `Function` that created itself). The `Tensor` attribute `grad_fn` references the `Function` that created it. THAT SIMPLE.\n",
        "\n",
        "Example multiplication of two tensors and the resulting interconnections [2]:\n",
        "\n",
        "![img](https://miro.medium.com/max/336/1*jGo_2J9UQeynwG_3olUD4w.png)\n",
        "\n",
        "Well this is the so called *dynamic computational graph (DCG)*."
      ]
    },
    {
      "cell_type": "markdown",
      "metadata": {
        "id": "UbGvYeNdljpR"
      },
      "source": [
        "#### Creating a tensor, operating on it, and computing derivatives"
      ]
    },
    {
      "cell_type": "code",
      "metadata": {
        "id": "kQgEVpXkdGpQ"
      },
      "source": [
        "import torch\n",
        "\n",
        "def describe_tensor(tensor, name=''):\n",
        "  # Helper function to explore the attributes of a tensor object\n",
        "  print('-' * 30)\n",
        "  print('Name: ', name)\n",
        "  print('-' * 30)\n",
        "  print('data : ', tensor.data)\n",
        "  print('requires_grad : ', tensor.requires_grad)\n",
        "  print('grad: ', tensor.grad)\n",
        "  print('grad_fn: ', tensor.grad_fn)\n",
        "  print('is_leaf: ', tensor.is_leaf)\n",
        "  print('=' * 30)\n"
      ],
      "execution_count": 2,
      "outputs": []
    },
    {
      "cell_type": "code",
      "metadata": {
        "colab": {
          "base_uri": "https://localhost:8080/"
        },
        "id": "ZYLZ9in3dGpR",
        "outputId": "3d8c7ea6-e780-42d5-c16b-a19d95329415"
      },
      "source": [
        "# create a tensor x\n",
        "x = torch.tensor(1.0)\n",
        "# create a tensor y\n",
        "y = torch.tensor(2.0)\n",
        "\n",
        "describe_tensor(x, name='x')\n",
        "describe_tensor(y, name='y')"
      ],
      "execution_count": 3,
      "outputs": [
        {
          "output_type": "stream",
          "name": "stdout",
          "text": [
            "------------------------------\n",
            "Name:  x\n",
            "------------------------------\n",
            "data :  tensor(1.)\n",
            "requires_grad :  False\n",
            "grad:  None\n",
            "grad_fn:  None\n",
            "is_leaf:  True\n",
            "==============================\n",
            "------------------------------\n",
            "Name:  y\n",
            "------------------------------\n",
            "data :  tensor(2.)\n",
            "requires_grad :  False\n",
            "grad:  None\n",
            "grad_fn:  None\n",
            "is_leaf:  True\n",
            "==============================\n"
          ]
        }
      ]
    },
    {
      "cell_type": "code",
      "metadata": {
        "colab": {
          "base_uri": "https://localhost:8080/"
        },
        "id": "u2sexkmKdGpS",
        "outputId": "aef357b2-fb3e-44a4-de36-a5357db512e1"
      },
      "source": [
        "# Create z as the multiplicative outcome of x * y\n",
        "z = x * y\n",
        "describe_tensor(z, name='z')"
      ],
      "execution_count": 4,
      "outputs": [
        {
          "output_type": "stream",
          "name": "stdout",
          "text": [
            "------------------------------\n",
            "Name:  z\n",
            "------------------------------\n",
            "data :  tensor(2.)\n",
            "requires_grad :  False\n",
            "grad:  None\n",
            "grad_fn:  None\n",
            "is_leaf:  True\n",
            "==============================\n"
          ]
        }
      ]
    },
    {
      "cell_type": "markdown",
      "metadata": {
        "id": "soQlbc0IHH7a"
      },
      "source": [
        "We have created a DCG out of a simple product of two scalar tensors. But there is no node requiring gradients! Let's call the life saver `backward()` function."
      ]
    },
    {
      "cell_type": "code",
      "metadata": {
        "colab": {
          "base_uri": "https://localhost:8080/",
          "height": 287
        },
        "id": "4Fs4jL-PdGpT",
        "outputId": "41b1714b-50eb-4385-a120-c44f8fdc0f54"
      },
      "source": [
        "z.backward()"
      ],
      "execution_count": 5,
      "outputs": [
        {
          "output_type": "error",
          "ename": "RuntimeError",
          "evalue": "element 0 of tensors does not require grad and does not have a grad_fn",
          "traceback": [
            "\u001b[0;31m---------------------------------------------------------------------------\u001b[0m",
            "\u001b[0;31mRuntimeError\u001b[0m                              Traceback (most recent call last)",
            "\u001b[0;32m<ipython-input-5-40c0c9b0bbab>\u001b[0m in \u001b[0;36m<cell line: 0>\u001b[0;34m()\u001b[0m\n\u001b[0;32m----> 1\u001b[0;31m \u001b[0mz\u001b[0m\u001b[0;34m.\u001b[0m\u001b[0mbackward\u001b[0m\u001b[0;34m(\u001b[0m\u001b[0;34m)\u001b[0m\u001b[0;34m\u001b[0m\u001b[0;34m\u001b[0m\u001b[0m\n\u001b[0m",
            "\u001b[0;32m/usr/local/lib/python3.11/dist-packages/torch/_tensor.py\u001b[0m in \u001b[0;36mbackward\u001b[0;34m(self, gradient, retain_graph, create_graph, inputs)\u001b[0m\n\u001b[1;32m    624\u001b[0m                 \u001b[0minputs\u001b[0m\u001b[0;34m=\u001b[0m\u001b[0minputs\u001b[0m\u001b[0;34m,\u001b[0m\u001b[0;34m\u001b[0m\u001b[0;34m\u001b[0m\u001b[0m\n\u001b[1;32m    625\u001b[0m             )\n\u001b[0;32m--> 626\u001b[0;31m         torch.autograd.backward(\n\u001b[0m\u001b[1;32m    627\u001b[0m             \u001b[0mself\u001b[0m\u001b[0;34m,\u001b[0m \u001b[0mgradient\u001b[0m\u001b[0;34m,\u001b[0m \u001b[0mretain_graph\u001b[0m\u001b[0;34m,\u001b[0m \u001b[0mcreate_graph\u001b[0m\u001b[0;34m,\u001b[0m \u001b[0minputs\u001b[0m\u001b[0;34m=\u001b[0m\u001b[0minputs\u001b[0m\u001b[0;34m\u001b[0m\u001b[0;34m\u001b[0m\u001b[0m\n\u001b[1;32m    628\u001b[0m         )\n",
            "\u001b[0;32m/usr/local/lib/python3.11/dist-packages/torch/autograd/__init__.py\u001b[0m in \u001b[0;36mbackward\u001b[0;34m(tensors, grad_tensors, retain_graph, create_graph, grad_variables, inputs)\u001b[0m\n\u001b[1;32m    345\u001b[0m     \u001b[0;31m# some Python versions print out the first line of a multi-line function\u001b[0m\u001b[0;34m\u001b[0m\u001b[0;34m\u001b[0m\u001b[0m\n\u001b[1;32m    346\u001b[0m     \u001b[0;31m# calls in the traceback and some print out the last line\u001b[0m\u001b[0;34m\u001b[0m\u001b[0;34m\u001b[0m\u001b[0m\n\u001b[0;32m--> 347\u001b[0;31m     _engine_run_backward(\n\u001b[0m\u001b[1;32m    348\u001b[0m         \u001b[0mtensors\u001b[0m\u001b[0;34m,\u001b[0m\u001b[0;34m\u001b[0m\u001b[0;34m\u001b[0m\u001b[0m\n\u001b[1;32m    349\u001b[0m         \u001b[0mgrad_tensors_\u001b[0m\u001b[0;34m,\u001b[0m\u001b[0;34m\u001b[0m\u001b[0;34m\u001b[0m\u001b[0m\n",
            "\u001b[0;32m/usr/local/lib/python3.11/dist-packages/torch/autograd/graph.py\u001b[0m in \u001b[0;36m_engine_run_backward\u001b[0;34m(t_outputs, *args, **kwargs)\u001b[0m\n\u001b[1;32m    821\u001b[0m         \u001b[0munregister_hooks\u001b[0m \u001b[0;34m=\u001b[0m \u001b[0m_register_logging_hooks_on_whole_graph\u001b[0m\u001b[0;34m(\u001b[0m\u001b[0mt_outputs\u001b[0m\u001b[0;34m)\u001b[0m\u001b[0;34m\u001b[0m\u001b[0;34m\u001b[0m\u001b[0m\n\u001b[1;32m    822\u001b[0m     \u001b[0;32mtry\u001b[0m\u001b[0;34m:\u001b[0m\u001b[0;34m\u001b[0m\u001b[0;34m\u001b[0m\u001b[0m\n\u001b[0;32m--> 823\u001b[0;31m         return Variable._execution_engine.run_backward(  # Calls into the C++ engine to run the backward pass\n\u001b[0m\u001b[1;32m    824\u001b[0m             \u001b[0mt_outputs\u001b[0m\u001b[0;34m,\u001b[0m \u001b[0;34m*\u001b[0m\u001b[0margs\u001b[0m\u001b[0;34m,\u001b[0m \u001b[0;34m**\u001b[0m\u001b[0mkwargs\u001b[0m\u001b[0;34m\u001b[0m\u001b[0;34m\u001b[0m\u001b[0m\n\u001b[1;32m    825\u001b[0m         )  # Calls into the C++ engine to run the backward pass\n",
            "\u001b[0;31mRuntimeError\u001b[0m: element 0 of tensors does not require grad and does not have a grad_fn"
          ]
        }
      ]
    },
    {
      "cell_type": "markdown",
      "metadata": {
        "id": "wYMY1ke3ejl3"
      },
      "source": [
        "No hesitation, is was meant to crash. There is no `Tensor` requiring to track the graph because none required the gradients to be computed with `requires_grad=True`. Now we can make it require the gradients by simply using the inplace function `.require_gradients_(True)` or by specifying the flag as `True` at `Tensor` creation time."
      ]
    },
    {
      "cell_type": "code",
      "metadata": {
        "colab": {
          "base_uri": "https://localhost:8080/"
        },
        "id": "1i--n7QFdGpU",
        "outputId": "3f13ce9b-254b-4262-f777-9cce11545436"
      },
      "source": [
        "# make x track gradients\n",
        "x = torch.tensor(1.0, requires_grad=True)\n",
        "z = x * y\n",
        "describe_tensor(z)"
      ],
      "execution_count": 6,
      "outputs": [
        {
          "output_type": "stream",
          "name": "stdout",
          "text": [
            "------------------------------\n",
            "Name:  \n",
            "------------------------------\n",
            "data :  tensor(2.)\n",
            "requires_grad :  True\n",
            "grad:  None\n",
            "grad_fn:  <MulBackward0 object at 0x7a169ecf8280>\n",
            "is_leaf:  False\n",
            "==============================\n"
          ]
        },
        {
          "output_type": "stream",
          "name": "stderr",
          "text": [
            "<ipython-input-2-377bf9e939b1>:10: UserWarning: The .grad attribute of a Tensor that is not a leaf Tensor is being accessed. Its .grad attribute won't be populated during autograd.backward(). If you indeed want the .grad field to be populated for a non-leaf Tensor, use .retain_grad() on the non-leaf Tensor. If you access the non-leaf Tensor by mistake, make sure you access the leaf Tensor instead. See github.com/pytorch/pytorch/pull/30531 for more informations. (Triggered internally at /pytorch/build/aten/src/ATen/core/TensorBody.h:489.)\n",
            "  print('grad: ', tensor.grad)\n"
          ]
        }
      ]
    },
    {
      "cell_type": "markdown",
      "metadata": {
        "id": "A60YjCAse8yQ"
      },
      "source": [
        "#### Note the change in the Tensor description!\n",
        "\n",
        "Now there are two important differences from this `z` to the previous one. First, this one DOES require gradient tracking. But secondly, it contains a `grad_fn` reference to a `MulBackward` operation! Which is basically telling us that multiplication will go through a derivative process in the backward step when we call the `backward()` function."
      ]
    },
    {
      "cell_type": "code",
      "metadata": {
        "colab": {
          "base_uri": "https://localhost:8080/"
        },
        "id": "3ixYGvWQdGpV",
        "outputId": "e74f33b1-493a-40c5-bdb1-7443973906e5"
      },
      "source": [
        "# call .backward() now on z\n",
        "z.backward()\n",
        "\n",
        "# Now describe each tensor x, y and z\n",
        "describe_tensor(x, 'x')\n",
        "describe_tensor(y, 'y')\n",
        "describe_tensor(z, 'z')"
      ],
      "execution_count": 7,
      "outputs": [
        {
          "output_type": "stream",
          "name": "stdout",
          "text": [
            "------------------------------\n",
            "Name:  x\n",
            "------------------------------\n",
            "data :  tensor(1.)\n",
            "requires_grad :  True\n",
            "grad:  tensor(2.)\n",
            "grad_fn:  None\n",
            "is_leaf:  True\n",
            "==============================\n",
            "------------------------------\n",
            "Name:  y\n",
            "------------------------------\n",
            "data :  tensor(2.)\n",
            "requires_grad :  False\n",
            "grad:  None\n",
            "grad_fn:  None\n",
            "is_leaf:  True\n",
            "==============================\n",
            "------------------------------\n",
            "Name:  z\n",
            "------------------------------\n",
            "data :  tensor(2.)\n",
            "requires_grad :  True\n",
            "grad:  None\n",
            "grad_fn:  <MulBackward0 object at 0x7a169ecfbac0>\n",
            "is_leaf:  False\n",
            "==============================\n"
          ]
        },
        {
          "output_type": "stream",
          "name": "stderr",
          "text": [
            "<ipython-input-2-377bf9e939b1>:10: UserWarning: The .grad attribute of a Tensor that is not a leaf Tensor is being accessed. Its .grad attribute won't be populated during autograd.backward(). If you indeed want the .grad field to be populated for a non-leaf Tensor, use .retain_grad() on the non-leaf Tensor. If you access the non-leaf Tensor by mistake, make sure you access the leaf Tensor instead. See github.com/pytorch/pytorch/pull/30531 for more informations. (Triggered internally at /pytorch/build/aten/src/ATen/core/TensorBody.h:489.)\n",
            "  print('grad: ', tensor.grad)\n"
          ]
        }
      ]
    },
    {
      "cell_type": "markdown",
      "metadata": {
        "id": "QDt1X6nKh1up"
      },
      "source": [
        "Note that the cell above is showing the text description of the graph [2]:\n",
        "\n",
        "![img](https://miro.medium.com/max/471/1*viCEZbSODfA8ZA4ECPwHxQ.png)"
      ]
    },
    {
      "cell_type": "markdown",
      "metadata": {
        "id": "pmJ3x95wfhlA"
      },
      "source": [
        "### Exercise 1\n",
        "\n",
        "Where does the result of `x.grad` come from and why does it have this value?"
      ]
    },
    {
      "cell_type": "markdown",
      "metadata": {
        "id": "NK_S-fY3rHD6"
      },
      "source": [
        "#### If you try `z.backward()` it will crash, notice the message"
      ]
    },
    {
      "cell_type": "code",
      "metadata": {
        "id": "ZGQKjaWldGpW"
      },
      "source": [
        "z.backward()"
      ],
      "execution_count": null,
      "outputs": []
    },
    {
      "cell_type": "markdown",
      "metadata": {
        "id": "pAyOlfD6sMDM"
      },
      "source": [
        "#### When the backward computation is done...\n",
        "\n",
        "The DCG is removed, and so we cannot perform backprop anymore. Unless you specify you want to retain the graph to do as many backwards as desired (for whatever reason and for an advanced usage of PyTorch).\n",
        "\n",
        "### Exercise 2\n",
        "\n",
        "Make use of the `retain_graph` flag in the `backward` call to backpropagate twice a tensor of ones."
      ]
    },
    {
      "cell_type": "code",
      "metadata": {
        "id": "2ZwzykgndGpX"
      },
      "source": [
        "# Let's try to backward twice\n",
        "\n",
        "x = torch.tensor(1.0, requires_grad=True)\n",
        "y = torch.tensor(2.0)\n",
        "z = x * y\n",
        "\n",
        "# TODO: Backward twice\n",
        "z.backward(...)\n",
        "\n",
        "z.backward()"
      ],
      "execution_count": null,
      "outputs": []
    },
    {
      "cell_type": "markdown",
      "metadata": {
        "id": "i5-ZoEsbvA6I"
      },
      "source": [
        "## Building a Neural Network and Training it\n",
        "\n",
        "We will now build a neural network to exemplify the simplicity of using PyTorch for deep learning. And then we will see how backpropagation is applied on it. The network will have one hidden layer and one output layer. We use the `nn` package in PyTorch to get to the neural components, also called `Module`s."
      ]
    },
    {
      "cell_type": "code",
      "metadata": {
        "id": "y9myS_9XdGpY"
      },
      "source": [
        "import torch.nn as nn\n",
        "\n",
        "\n",
        "class MyNet(nn.Module):\n",
        "\n",
        "  def __init__(self):\n",
        "    super().__init__() # must call the superclass init first\n",
        "    # First fully-connected layer (3 inputs, 20 hidden neurons)\n",
        "    self.fc1 = nn.Linear(3, 20)\n",
        "    # First hidden activation\n",
        "    self.act1 = nn.Tanh()\n",
        "    # Second fully-connected layer (20 hidden neurons, 3 outputs)\n",
        "    self.fc2 = nn.Linear(20, 3)\n",
        "    # No activation as we make it a linear output\n",
        "\n",
        "  def forward(self, x):\n",
        "    # activation of first layer is Tanh(FC1(x))\n",
        "    h1 = self.act1(self.fc1(x))\n",
        "    # output activation\n",
        "    y = self.fc2(h1)\n",
        "    return y"
      ],
      "execution_count": 12,
      "outputs": []
    },
    {
      "cell_type": "code",
      "metadata": {
        "colab": {
          "base_uri": "https://localhost:8080/"
        },
        "id": "a1OEsuwUdGpY",
        "outputId": "f93e79e3-243a-4108-a418-07a20ace7fd3"
      },
      "source": [
        "# We instantiate our network now, and can even print its structure\n",
        "net = MyNet()\n",
        "print(net)"
      ],
      "execution_count": 13,
      "outputs": [
        {
          "output_type": "stream",
          "name": "stdout",
          "text": [
            "MyNet(\n",
            "  (fc1): Linear(in_features=3, out_features=20, bias=True)\n",
            "  (act1): Tanh()\n",
            "  (fc2): Linear(in_features=20, out_features=3, bias=True)\n",
            ")\n"
          ]
        }
      ]
    },
    {
      "cell_type": "code",
      "metadata": {
        "colab": {
          "base_uri": "https://localhost:8080/"
        },
        "id": "v72a4zCbdGpY",
        "outputId": "ddd5c704-e4f5-40b8-8a8a-e939afdba7e1"
      },
      "source": [
        "# We can explore the weight tensor of a layer very simply\n",
        "describe_tensor(net.fc1.weight, 'FC1 weight')"
      ],
      "execution_count": 14,
      "outputs": [
        {
          "output_type": "stream",
          "name": "stdout",
          "text": [
            "------------------------------\n",
            "Name:  FC1 weight\n",
            "------------------------------\n",
            "data :  tensor([[ 0.0820, -0.2728, -0.4987],\n",
            "        [-0.1704, -0.0457, -0.2402],\n",
            "        [ 0.4759,  0.3915, -0.5022],\n",
            "        [-0.4966,  0.1689,  0.1641],\n",
            "        [-0.4144, -0.0208,  0.0228],\n",
            "        [-0.0547, -0.5132, -0.2290],\n",
            "        [-0.5337, -0.3761, -0.2014],\n",
            "        [ 0.0248, -0.0870,  0.4115],\n",
            "        [-0.1779, -0.2888,  0.2585],\n",
            "        [ 0.4950,  0.0872,  0.3694],\n",
            "        [ 0.0449, -0.1992,  0.1346],\n",
            "        [-0.4174, -0.4490, -0.0427],\n",
            "        [-0.1679, -0.3319,  0.0439],\n",
            "        [-0.4584,  0.3860, -0.1640],\n",
            "        [ 0.2005,  0.1846,  0.4600],\n",
            "        [-0.2692, -0.4379, -0.0448],\n",
            "        [-0.2663, -0.0878, -0.2732],\n",
            "        [-0.1209,  0.4165,  0.3313],\n",
            "        [ 0.3703, -0.0118, -0.1374],\n",
            "        [ 0.1427,  0.0252, -0.4192]])\n",
            "requires_grad :  True\n",
            "grad:  None\n",
            "grad_fn:  None\n",
            "is_leaf:  True\n",
            "==============================\n"
          ]
        }
      ]
    },
    {
      "cell_type": "markdown",
      "metadata": {
        "id": "dToaGYVRxqcW"
      },
      "source": [
        "Observe that by default we have that the fully connected layer `fc1` DOES require the gradient computation. It is evident that they simplify our lives, because that is the last node to be reached in the backpropagation stage and we do not even have to take care of explicitly saying so."
      ]
    },
    {
      "cell_type": "code",
      "metadata": {
        "colab": {
          "base_uri": "https://localhost:8080/"
        },
        "id": "pj6Zmx8jdGpZ",
        "outputId": "c1e63c26-302b-495e-f6d1-9df16032fed4"
      },
      "source": [
        "# We can access all the parameters of our network with the .parameters() function, that returns an iterable\n",
        "# over all tunnable params we created.\n",
        "params = list(net.parameters())\n",
        "for p in params:\n",
        "  print(p.shape)\n",
        "print('You should see two matrices (weights, OUTxIN) and two vectors (biases, OUT). Each pair of weight (W) and bias (b) comes from a fully connected layer.')"
      ],
      "execution_count": 15,
      "outputs": [
        {
          "output_type": "stream",
          "name": "stdout",
          "text": [
            "torch.Size([20, 3])\n",
            "torch.Size([20])\n",
            "torch.Size([3, 20])\n",
            "torch.Size([3])\n",
            "You should see two matrices (weights, OUTxIN) and two vectors (biases, OUT). Each pair of weight (W) and bias (b) comes from a fully connected layer.\n"
          ]
        }
      ]
    },
    {
      "cell_type": "markdown",
      "metadata": {
        "id": "voBmJP_z0sTu"
      },
      "source": [
        "We will use mean squared error (MSE) as the loss function to be able to compute the error between our network outputs and some labels."
      ]
    },
    {
      "cell_type": "code",
      "metadata": {
        "id": "uRBXLVSAdGpa"
      },
      "source": [
        "loss_fn = F.mse_loss"
      ],
      "execution_count": 16,
      "outputs": []
    },
    {
      "cell_type": "markdown",
      "metadata": {
        "id": "t-WeLqGhy80p"
      },
      "source": [
        "Now remember that training a neural network usually takes the following steps:\n",
        "\n",
        "1. Make a forward pass with some input `x` to activate each layer until output `y_`\n",
        "2. Compute the error towards a label `y` with a loss function (like MSE for example)\n",
        "3. Backpropagate the gradients through the network (`.backward()` call)\n",
        "4. Update every tunnable network parameter with its `.grad` attribute (using some optimizer)"
      ]
    },
    {
      "cell_type": "markdown",
      "metadata": {
        "id": "xIGbGkyi08dm"
      },
      "source": [
        "### Exercise 3\n",
        "\n",
        "We will instantiate a network like the one shown earlier and train it to map simple uniform noise to zeros. We will track the loss value, which must decrease, and will plot it.\n",
        "\n",
        "1. **Understand why we call `optimizer.zero_grad()`** in the training loop. Read its functionallity in the PyTorch documentation: https://pytorch.org/docs/stable/optim.html#torch.optim.Optimizer\n",
        "2. **Fill in the missing pieces to complete the aforementioned training steps** in order to observe a decreasing loss in the depicted plot. The loss should get very close to zero with a clear decreasing trend in few iterations."
      ]
    },
    {
      "cell_type": "code",
      "metadata": {
        "colab": {
          "base_uri": "https://localhost:8080/",
          "height": 1000
        },
        "id": "MK6zzHIedGpa",
        "outputId": "9c68e308-516f-4fbd-a350-ea343c985d6d"
      },
      "source": [
        "def train(network, optimizer, loss_fn, num_iters):\n",
        "    \"\"\" Training function \"\"\"\n",
        "    loss_history = []\n",
        "\n",
        "    for niter in range(1, num_iters + 1):\n",
        "        optimizer.zero_grad()\n",
        "\n",
        "        # 1) Sample 10 random inputs of shape [10, 3]\n",
        "        x = torch.rand(10, 3)\n",
        "\n",
        "        # 2) Forward the data through the network\n",
        "        y_ = network(x)\n",
        "\n",
        "        # 3) Compute loss wrt zero labels\n",
        "        loss = loss_fn(y_, torch.zeros_like(y_))\n",
        "\n",
        "        # 4) Backpropagation\n",
        "        loss.backward()\n",
        "\n",
        "        # Store the loss to plot\n",
        "        loss_history.append(loss.item())\n",
        "\n",
        "        # 5) Optimizer step\n",
        "        optimizer.step()\n",
        "\n",
        "        if niter % 50 == 0:\n",
        "            print('Step {:2d} loss: {:.3f}'.format(niter, loss_history[-1]))\n",
        "\n",
        "    plt.plot(loss_history)\n",
        "    plt.xlabel('Niter')\n",
        "    plt.ylabel('Loss')\n",
        "\n",
        "net = MyNet()\n",
        "# we will take stochastic gradient descent (SGD) to exemplify the training loop of a neural network\n",
        "# We first need to handle the parameters that the optimizer will tune, and then we must specify the learning rate (lr) of each\n",
        "# update step\n",
        "opt = optim.SGD(net.parameters(), lr=0.01)\n",
        "train(net, opt, loss_fn, 5000) #maybe we should iterate until finding the perfect number ? idk"
      ],
      "execution_count": 18,
      "outputs": [
        {
          "output_type": "stream",
          "name": "stdout",
          "text": [
            "Step 50 loss: 0.011\n",
            "Step 100 loss: 0.007\n",
            "Step 150 loss: 0.008\n",
            "Step 200 loss: 0.004\n",
            "Step 250 loss: 0.006\n",
            "Step 300 loss: 0.003\n",
            "Step 350 loss: 0.002\n",
            "Step 400 loss: 0.003\n",
            "Step 450 loss: 0.002\n",
            "Step 500 loss: 0.004\n",
            "Step 550 loss: 0.003\n",
            "Step 600 loss: 0.002\n",
            "Step 650 loss: 0.002\n",
            "Step 700 loss: 0.002\n",
            "Step 750 loss: 0.003\n",
            "Step 800 loss: 0.001\n",
            "Step 850 loss: 0.001\n",
            "Step 900 loss: 0.002\n",
            "Step 950 loss: 0.002\n",
            "Step 1000 loss: 0.001\n",
            "Step 1050 loss: 0.002\n",
            "Step 1100 loss: 0.002\n",
            "Step 1150 loss: 0.001\n",
            "Step 1200 loss: 0.001\n",
            "Step 1250 loss: 0.001\n",
            "Step 1300 loss: 0.001\n",
            "Step 1350 loss: 0.001\n",
            "Step 1400 loss: 0.001\n",
            "Step 1450 loss: 0.001\n",
            "Step 1500 loss: 0.000\n",
            "Step 1550 loss: 0.001\n",
            "Step 1600 loss: 0.001\n",
            "Step 1650 loss: 0.001\n",
            "Step 1700 loss: 0.000\n",
            "Step 1750 loss: 0.000\n",
            "Step 1800 loss: 0.000\n",
            "Step 1850 loss: 0.000\n",
            "Step 1900 loss: 0.000\n",
            "Step 1950 loss: 0.000\n",
            "Step 2000 loss: 0.001\n",
            "Step 2050 loss: 0.000\n",
            "Step 2100 loss: 0.000\n",
            "Step 2150 loss: 0.000\n",
            "Step 2200 loss: 0.000\n",
            "Step 2250 loss: 0.000\n",
            "Step 2300 loss: 0.000\n",
            "Step 2350 loss: 0.000\n",
            "Step 2400 loss: 0.000\n",
            "Step 2450 loss: 0.000\n",
            "Step 2500 loss: 0.000\n",
            "Step 2550 loss: 0.000\n",
            "Step 2600 loss: 0.000\n",
            "Step 2650 loss: 0.000\n",
            "Step 2700 loss: 0.000\n",
            "Step 2750 loss: 0.000\n",
            "Step 2800 loss: 0.000\n",
            "Step 2850 loss: 0.000\n",
            "Step 2900 loss: 0.000\n",
            "Step 2950 loss: 0.000\n",
            "Step 3000 loss: 0.000\n",
            "Step 3050 loss: 0.000\n",
            "Step 3100 loss: 0.000\n",
            "Step 3150 loss: 0.000\n",
            "Step 3200 loss: 0.000\n",
            "Step 3250 loss: 0.000\n",
            "Step 3300 loss: 0.000\n",
            "Step 3350 loss: 0.000\n",
            "Step 3400 loss: 0.000\n",
            "Step 3450 loss: 0.000\n",
            "Step 3500 loss: 0.000\n",
            "Step 3550 loss: 0.000\n",
            "Step 3600 loss: 0.000\n",
            "Step 3650 loss: 0.000\n",
            "Step 3700 loss: 0.000\n",
            "Step 3750 loss: 0.000\n",
            "Step 3800 loss: 0.000\n",
            "Step 3850 loss: 0.000\n",
            "Step 3900 loss: 0.000\n",
            "Step 3950 loss: 0.000\n",
            "Step 4000 loss: 0.000\n",
            "Step 4050 loss: 0.000\n",
            "Step 4100 loss: 0.000\n",
            "Step 4150 loss: 0.000\n",
            "Step 4200 loss: 0.000\n",
            "Step 4250 loss: 0.000\n",
            "Step 4300 loss: 0.000\n",
            "Step 4350 loss: 0.000\n",
            "Step 4400 loss: 0.000\n",
            "Step 4450 loss: 0.000\n",
            "Step 4500 loss: 0.000\n",
            "Step 4550 loss: 0.000\n",
            "Step 4600 loss: 0.000\n",
            "Step 4650 loss: 0.000\n",
            "Step 4700 loss: 0.000\n",
            "Step 4750 loss: 0.000\n",
            "Step 4800 loss: 0.000\n",
            "Step 4850 loss: 0.000\n",
            "Step 4900 loss: 0.000\n",
            "Step 4950 loss: 0.000\n",
            "Step 5000 loss: 0.000\n"
          ]
        },
        {
          "output_type": "display_data",
          "data": {
            "text/plain": [
              "<Figure size 640x480 with 1 Axes>"
            ],
            "image/png": "[encoded data removed]"
          },
          "metadata": {}
        }
      ]
    },
    {
      "cell_type": "markdown",
      "metadata": {
        "id": "fA23afv_wJq9"
      },
      "source": [
        "We can compare the difference in output from a non-trained and the trained network"
      ]
    },
    {
      "cell_type": "code",
      "metadata": {
        "id": "VZhhXEo6dGpb"
      },
      "source": [
        "# Generate 5 random samples of dimensionality 3\n",
        "x_sample = torch.rand(5, 3)\n",
        "\n",
        "# Forward the data through a non trained network\n",
        "non_trained = MyNet()\n",
        "print('Non-trained result: ', torch.mean(non_trained(x_sample)).item())\n",
        "\n",
        "# Forward through the trained network (net)\n",
        "print('Trained result: ', torch.mean(net(x_sample)).item())\n",
        "\n",
        "print('Trained result should be closer to zero than the non-trained one (if training went well).')"
      ],
      "execution_count": null,
      "outputs": []
    },
    {
      "cell_type": "markdown",
      "metadata": {
        "id": "MY2OxOiH9ZQ2"
      },
      "source": [
        "### When we do NOT want gradients\n",
        "\n",
        "There are some scenarios where we want to avoid building the `backward` graph, as we will not need gradients. For example, during inference/prediction/test. We can avoid the computation of gradients through the neural network forward pass by enclosing it into the `with torch.no_grad()` context (**which speeds up evaluation process by x2 or x3 normally**). As an example:"
      ]
    },
    {
      "cell_type": "code",
      "metadata": {
        "id": "WLakZ2CFdGpc"
      },
      "source": [
        "x = torch.zeros(10, 3)\n",
        "with torch.no_grad():\n",
        "  y_ = net(x)\n",
        "  loss = loss_fn(y_, torch.zeros(x.shape))\n",
        "  print('Loss: {:.2f}'.format(loss))\n",
        "  describe_tensor(loss, 'loss')\n",
        "  print('NOTE THAT requires_grad=False NOW IN THE LOSS TENSOR')\n",
        "  # This would crash: y.backward()\n"
      ],
      "execution_count": null,
      "outputs": []
    },
    {
      "cell_type": "markdown",
      "metadata": {
        "id": "xNyoimhfACrG"
      },
      "source": [
        "Finally, we can also cut the graph at any point we want (if we want) with the `.detach()` function of a `Tensor`. For instance, if we only wanted to train the output layer in the previous network (leaving the first layer `fc1` to behave randomly for whatever reason), we can re-define it as:"
      ]
    },
    {
      "cell_type": "code",
      "metadata": {
        "id": "cjItqNmZdGpc"
      },
      "source": [
        "class MyNetWithDetach(nn.Module):\n",
        "\n",
        "  def __init__(self):\n",
        "    super().__init__() # must call the superclass init first\n",
        "    # First fully-connected layer (3 inputs, 20 hidden neurons)\n",
        "    self.fc1 = nn.Linear(3, 20)\n",
        "    # First hidden activation\n",
        "    self.act1 = nn.Tanh()\n",
        "    # Second fully-connected layer (20 hidden neurons, 3 outputs)\n",
        "    self.fc2 = nn.Linear(20, 3)\n",
        "    # No activation as we make it a linear output\n",
        "\n",
        "  def forward(self, x):\n",
        "    # activation of first layer is Tanh(FC1(x))\n",
        "    h1 = self.act1(self.fc1(x))\n",
        "    # DETACH\n",
        "    h1 = h1.detach()\n",
        "    # output activation\n",
        "    y = self.fc2(h1)\n",
        "    return y\n",
        "\n",
        "# Now we can train this network\n",
        "net = MyNetWithDetach()\n",
        "# Now we can observe the difference of gradients in the biases of the 2 layers\n",
        "# between this network and the regular one\n",
        "# in terms of computed gradients\n",
        "\n",
        "def forward_backward(network, net_name=''):\n",
        "  x = torch.zeros(10, 3)\n",
        "  y_ = network(x)\n",
        "  loss = loss_fn(y_, torch.zeros(x.shape))\n",
        "  loss.backward()\n",
        "  describe_tensor(network.fc1.bias, '{}:FC1 bias'.format(net_name))\n",
        "  describe_tensor(network.fc2.bias, '{}:FC2 bias'.format(net_name))\n",
        "\n",
        "# Try with a non-detached network\n",
        "forward_backward(MyNet(), 'Non-Detached Net')\n",
        "# Try with a detached network\n",
        "forward_backward(MyNetWithDetach(), 'Detached Net')\n"
      ],
      "execution_count": null,
      "outputs": []
    },
    {
      "cell_type": "markdown",
      "metadata": {
        "id": "xm-8_-TyB8Ju"
      },
      "source": [
        "And you may wonder...\n",
        "\n",
        "1. *Why would I cut the gradient flow at a certain point in my neural network? It looks like avoiding the learning process in some components. How may this be beneficial?* **A: Well, a neural network can be trained per blocks, as they are also tunnable feature extractors. Just bear in mind that you can bring a pre-trained neural network piece, attach it to your own additional piece, and tune only your own part of the network by freezing the first one**.\n",
        "\n",
        "2. *What happens to the optimizer, which has the full list of parameters of my network, after I detach the graph?* **A: the optimizer still contains a reference to your parameters. So in the MyNetWithDetach case, it still has a reference to fc1 parameters. Nonetheless, as `.grad` is None, it simply cannot update the parameters.**\n"
      ]
    },
    {
      "cell_type": "markdown",
      "metadata": {
        "id": "OvLjQHWuk06p"
      },
      "source": [
        "### References\n",
        "\n",
        "[1] https://pytorch.org/tutorials/beginner/blitz/autograd_tutorial.html\n",
        "\n",
        "[2] https://towardsdatascience.com/pytorch-autograd-understanding-the-heart-of-pytorchs-magic-2686cd94ec95\n",
        "\n",
        "[3] https://ml-cheatsheet.readthedocs.io/en/latest/backpropagation.html"
      ]
    }
  ]
}